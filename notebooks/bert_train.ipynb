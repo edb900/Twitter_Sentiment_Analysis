{
 "cells": [
  {
   "cell_type": "markdown",
   "metadata": {},
   "source": [
    "# BERT.ipynb\n",
    "\n",
    "### Designation: Model Generation Script\n",
    "\n",
    "    Purpose: to train a single BERT model on our dataset for training ('Tweets.csv') at 90:10 train-test split\n",
    "\n",
    "- Requirements:\n",
    "    \n",
    "    Packages: tensorflow, pandas, matplotlib, transformers, sklearn, os\n",
    "\n",
    "    Datasets (csv's): Tweets.csv\n",
    "\n",
    "- This program will require an internet connection, as it will download the model and tokenizer from the HuggingFace model repository.\n",
    "\n",
    "- Saved model-weight name (output): bertBasic.h5\n",
    "    - Please note, all files referenced (input and output) will all be on the folder-level."
   ]
  },
  {
   "cell_type": "markdown",
   "metadata": {},
   "source": [
    "### A note on BERT, Tensorflow and GPU:\n",
    "\n",
    "- This is a BERT model, which means it makes predictions of each word based on ALL words around it in the sentence. This has the following consequences, aside from achieving high accuracy\n",
    "\n",
    "    - It has a LOT of weights to be trained. hence a GPU is strongly recommended, if I cannot 'require' it.\n",
    "\n",
    "    - It is very prone to overfitting, and as such, the way to tune this model is to run 1 epoch on as many unique queries as possible.\n",
    "\n",
    "    - It will take up a lot of storage. We would even observe training speed differences if it was on a hard drive vs. if it was on an SSD.\n",
    "\n",
    "- For Tensorflow:\n",
    "    \n",
    "    - This model is compiled with Tensorflow 2.8+, with CUDA toolkit version 11.6 with its corresponding cuDNN and other nVidia required databases, on python 3.8.10\n",
    "\n",
    "    - Training time reference: 12 minutes (GPU) - 1 epoch, batch size 32, 90:10 train-test ratio, RTX 3060, Ryzen 5 5600x, 8GB ram assigned, WSL-2 ubuntu 20.04 LTS.\n",
    "\n"
   ]
  },
  {
   "cell_type": "markdown",
   "metadata": {},
   "source": [
    "## 1. TensorFlow Standalone Setup\n",
    "\n",
    "- To get tensorflow working with the correct device, we import it first before we load the model.\n",
    "\n",
    "- 'useCPU' argument will disable CUDA and force TensorFlow to run with CPU only.\n",
    "    \n",
    "    - there are many 'with tf.device('/GPU:0'):' casts, forcing TensorFlow to run with CPU only here will not raise an error. \n",
    "        \n",
    "        TensorFlow will use CPU even when the code tells it to use GPU, as there is no GPU detected.\n",
    "\n",
    "            Tip: Restart the kernel before running the program (again), so no variable collision happens, and it will ensure that there are RAM/VRAM available to use."
   ]
  },
  {
   "cell_type": "code",
   "execution_count": 12,
   "metadata": {},
   "outputs": [
    {
     "name": "stdout",
     "output_type": "stream",
     "text": [
      "Num GPUs Available:  1\n"
     ]
    }
   ],
   "source": [
    "useCPU = False #Choose whether to use CPU or GPU for running the program\n",
    "\n",
    "import tensorflow as tf\n",
    "import os\n",
    "if useCPU:\n",
    "    os.environ['CUDA_VISIBLE_DEVICES'] = '-1'\n",
    "tf.config.list_physical_devices('GPU')"
   ]
  },
  {
   "cell_type": "markdown",
   "metadata": {},
   "source": [
    "## 2. Importing, downloading, and Building the model\n",
    "\n",
    "- The model and tokenizer are quite large, so make sure enough drive space is provided in C drive, and a fast, reliable internet connection is available.\n",
    "\n",
    "- We have specified that we want, from HuggingFace, a BERT tokenizer (though AutoModel will work too), and a TensorFlow BERT model with a sequence classification head attached to it.\n",
    "\n",
    "    - And we specified that we are doing a 3-label classification."
   ]
  },
  {
   "cell_type": "code",
   "execution_count": null,
   "metadata": {},
   "outputs": [],
   "source": [
    "import pandas as pd\n",
    "import matplotlib.pyplot as plt\n",
    "import tensorflow as tf\n",
    "from transformers import BertTokenizer, TFBertForSequenceClassification\n",
    "from transformers import InputExample, InputFeatures\n",
    "with tf.device('/GPU:0'):\n",
    "    model = TFBertForSequenceClassification.from_pretrained(\"bert-base-uncased\",num_labels=3,problem_type=\"multi_label_classification\")\n",
    "    tokenizer = BertTokenizer.from_pretrained(\"bert-base-uncased\",num_labels=3)\n",
    "    model.summary()"
   ]
  },
  {
   "cell_type": "markdown",
   "metadata": {},
   "source": [
    "## 3. Read in dataset: Tweets.csv (our dataset for training purposes), and clean up the dataset\n",
    "\n",
    "- textID and selected_text will not matter for this program."
   ]
  },
  {
   "cell_type": "code",
   "execution_count": null,
   "metadata": {},
   "outputs": [],
   "source": [
    "dataset = pd.read_csv('../Dataset/Tweets.csv', encoding='ISO-8859-1')\n",
    "dataset_drop = dataset.drop(['textID', 'selected_text'], axis=1)\n",
    "dataset_drop"
   ]
  },
  {
   "cell_type": "markdown",
   "metadata": {},
   "source": [
    "### 3.1. Extract and encode the dataset's label column into number-category encoding.\n",
    "\n",
    "- 0 is negative, 1 is neutral, 2 is positive."
   ]
  },
  {
   "cell_type": "code",
   "execution_count": null,
   "metadata": {},
   "outputs": [],
   "source": [
    "datasetSentimentEncode = dataset_drop['sentiment'].apply(lambda c: 0 if c == 'negative' else (1 if c=='neutral' else 2))\n",
    "datasetSentimentEncode"
   ]
  },
  {
   "cell_type": "markdown",
   "metadata": {},
   "source": [
    "## 4. Compiling Training/Test split dataframes\n",
    "\n",
    "- 90:10 seeded split, and dataframes are named in a specific way so we can use the loader functions"
   ]
  },
  {
   "cell_type": "code",
   "execution_count": null,
   "metadata": {},
   "outputs": [],
   "source": [
    "from sklearn.model_selection import train_test_split\n",
    "xtrain,xtest,ytrain,ytest = train_test_split(dataset_drop['text'].astype(str), datasetSentimentEncode, test_size=0.1, random_state=21)\n",
    "trainDF = pd.DataFrame()\n",
    "testDF = pd.DataFrame()\n",
    "trainDF['DATA_COLUMN'] = xtrain\n",
    "trainDF['LABEL_COLUMN'] = ytrain\n",
    "testDF['DATA_COLUMN'] = xtest\n",
    "testDF['LABEL_COLUMN'] = ytest\n",
    "trainDF,testDF"
   ]
  },
  {
   "cell_type": "markdown",
   "metadata": {},
   "source": [
    "## 5. Converting dataframes into supported input format for the AI\n",
    "\n",
    "- defining methods of conversion below\n",
    "\n",
    "- The conversion will first convert the dataframe into a list of InputExample Objects\n",
    "\n",
    "    - InputExample: Hugging Face-provided object-enclosure for data.\n",
    "\n",
    "- Then it will convert the list of InputExample objects into a TensorFlow Tensor Dataset, with a list of text IDs and a list of labels.\n",
    "\n",
    "    - The tokenizer is used to convert the plain text into a list of vectors (numbers, textIDs), that the machine understands.\n",
    "\n"
   ]
  },
  {
   "cell_type": "code",
   "execution_count": null,
   "metadata": {},
   "outputs": [],
   "source": [
    "def convert_data_to_examples(train, test, DATA_COLUMN, LABEL_COLUMN): \n",
    "  train_InputExamples = train.apply(lambda x: InputExample(guid=None, # Globally unique ID for bookkeeping, unused in this case\n",
    "                                                          text_a = x[DATA_COLUMN], \n",
    "                                                          text_b = None,\n",
    "                                                          label = x[LABEL_COLUMN]), axis = 1)\n",
    "\n",
    "  validation_InputExamples = test.apply(lambda x: InputExample(guid=None, # Globally unique ID for bookkeeping, unused in this case\n",
    "                                                          text_a = x[DATA_COLUMN], \n",
    "                                                          text_b = None,\n",
    "                                                          label = x[LABEL_COLUMN]), axis = 1)\n",
    "  \n",
    "  return train_InputExamples, validation_InputExamples\n",
    "  \n",
    "def convert_examples_to_tf_dataset(examples, tokenizer, max_length=128):\n",
    "    features = [] # -> will hold InputFeatures to be converted later\n",
    "\n",
    "    for e in examples:\n",
    "        # Documentation is really strong for this method, so please take a look at it\n",
    "        input_dict = tokenizer.encode_plus(\n",
    "            e.text_a,\n",
    "            add_special_tokens=True,\n",
    "            max_length=max_length, # truncates if len(s) > max_length\n",
    "            return_token_type_ids=True,\n",
    "            return_attention_mask=True,\n",
    "            pad_to_max_length=True, # pads to the right by default # CHECK THIS for pad_to_max_length\n",
    "            truncation=True\n",
    "        )\n",
    "\n",
    "        input_ids, token_type_ids, attention_mask = (input_dict[\"input_ids\"],\n",
    "            input_dict[\"token_type_ids\"], input_dict['attention_mask'])\n",
    "\n",
    "        features.append(\n",
    "            InputFeatures(\n",
    "                input_ids=input_ids, attention_mask=attention_mask, token_type_ids=token_type_ids, label=e.label\n",
    "            )\n",
    "        )\n",
    "\n",
    "    def gen():\n",
    "        for f in features:\n",
    "            yield (\n",
    "                {\n",
    "                    \"input_ids\": f.input_ids,\n",
    "                    \"attention_mask\": f.attention_mask,\n",
    "                    \"token_type_ids\": f.token_type_ids,\n",
    "                },\n",
    "                f.label,\n",
    "            )\n",
    "\n",
    "    return tf.data.Dataset.from_generator(\n",
    "        gen,\n",
    "        ({\"input_ids\": tf.int32, \"attention_mask\": tf.int32, \"token_type_ids\": tf.int32}, tf.int64),\n",
    "        (\n",
    "            {\n",
    "                \"input_ids\": tf.TensorShape([None]),\n",
    "                \"attention_mask\": tf.TensorShape([None]),\n",
    "                \"token_type_ids\": tf.TensorShape([None]),\n",
    "            },\n",
    "            tf.TensorShape([]),\n",
    "        ),\n",
    "    )"
   ]
  },
  {
   "cell_type": "markdown",
   "metadata": {},
   "source": [
    "### 5.1. The call of the functions, and batching\n",
    "\n",
    "- We will transform both train and test data separately."
   ]
  },
  {
   "cell_type": "code",
   "execution_count": null,
   "metadata": {},
   "outputs": [],
   "source": [
    "DATA_COLUMN = 'DATA_COLUMN'\n",
    "LABEL_COLUMN = 'LABEL_COLUMN'\n",
    "train_InputExamples, validation_InputExamples = convert_data_to_examples(trainDF, testDF, DATA_COLUMN, LABEL_COLUMN)\n",
    "with tf.device('/GPU:0'):\n",
    "    train_data = convert_examples_to_tf_dataset(list(train_InputExamples), tokenizer)\n",
    "    train_data = train_data.shuffle(100).batch(32)\n",
    "\n",
    "    validation_data = convert_examples_to_tf_dataset(list(validation_InputExamples), tokenizer)\n",
    "    validation_data = validation_data.batch(32)"
   ]
  },
  {
   "cell_type": "markdown",
   "metadata": {},
   "source": [
    "## 6. Train the model\n",
    "\n",
    "- Compiling the model, which we are using Adam, and we specify the learning rate here.\n",
    "\n",
    "- We run model.fit() (the train command), and we specify the epoch we run here."
   ]
  },
  {
   "cell_type": "code",
   "execution_count": null,
   "metadata": {},
   "outputs": [],
   "source": [
    "with tf.device('/GPU:0'):\n",
    "    model.compile(optimizer=tf.keras.optimizers.Adam(learning_rate=3e-5, epsilon=1e-08, clipnorm=1.0), \n",
    "              loss=tf.keras.losses.SparseCategoricalCrossentropy(from_logits=True), \n",
    "              metrics=[tf.keras.metrics.SparseCategoricalAccuracy('accuracy')])\n",
    "\n",
    "    model.fit(train_data, epochs=1, validation_data=validation_data)"
   ]
  },
  {
   "cell_type": "markdown",
   "metadata": {},
   "source": [
    "## 7. (Optional) Save Weights\n",
    "\n",
    "- If the training result is satisfactory, uncomment the code below and run the cell.\n",
    "    - it will grab the model weight that is still stored in the kernel and save it."
   ]
  },
  {
   "cell_type": "code",
   "execution_count": null,
   "metadata": {},
   "outputs": [],
   "source": [
    "#model.save_weights('bertBasic.h5')"
   ]
  },
  {
   "cell_type": "markdown",
   "metadata": {},
   "source": [
    "## 8. (Deprecated) Load Weights and get predictions on the train set (seeded)\n",
    "\n",
    "- This part of the code can run separately from the training. \n",
    "    - To use it, run up to the cell before #6: train the model, then uncomment and run this cell."
   ]
  },
  {
   "cell_type": "code",
   "execution_count": null,
   "metadata": {},
   "outputs": [],
   "source": [
    "# # load model\n",
    "\n",
    "# trained_model = TFBertForSequenceClassification.from_pretrained(\n",
    "#     'bert-base-uncased', num_labels=3)\n",
    "\n",
    "# trained_model.compile(optimizer=tf.keras.optimizers.Adam(learning_rate=3e-5, epsilon=1e-08, clipnorm=1.0), \n",
    "#                       loss=tf.keras.losses.SparseCategoricalCrossentropy(from_logits=True), \n",
    "#                       metrics=[tf.keras.metrics.SparseCategoricalAccuracy('accuracy')])\n",
    "\n",
    "# trained_model.load_weights('bertBasic.h5')\n",
    "\n",
    "# preds = trained_model.predict(train_data)"
   ]
  }
 ],
 "metadata": {
  "language_info": {
   "name": "python"
  },
  "nbdime-conflicts": {
   "local_diff": [
    {
     "key": "interpreter",
     "op": "add",
     "value": {
      "hash": "52634da84371cba311ea128a5ea7cdc41ff074b781779e754b270ff9f8153cee"
     }
    },
    {
     "key": "kernelspec",
     "op": "add",
     "value": {
      "display_name": "Python 3.9.10 64-bit",
      "language": "python",
      "name": "python3"
     }
    },
    {
     "key": "language_info",
     "op": "add",
     "value": {
      "codemirror_mode": {
       "name": "ipython",
       "version": 3
      },
      "file_extension": ".py",
      "mimetype": "text/x-python",
      "name": "python",
      "nbconvert_exporter": "python",
      "pygments_lexer": "ipython3",
      "version": "3.9.10"
     }
    }
   ],
   "remote_diff": [
    {
     "key": "interpreter",
     "op": "add",
     "value": {
      "hash": "916dbcbb3f70747c44a77c7bcd40155683ae19c65e1c03b4aa3499c5328201f1"
     }
    },
    {
     "key": "kernelspec",
     "op": "add",
     "value": {
      "display_name": "Python 3.8.10 64-bit",
      "language": "python",
      "name": "python3"
     }
    },
    {
     "key": "language_info",
     "op": "add",
     "value": {
      "codemirror_mode": {
       "name": "ipython",
       "version": 3
      },
      "file_extension": ".py",
      "mimetype": "text/x-python",
      "name": "python",
      "nbconvert_exporter": "python",
      "pygments_lexer": "ipython3",
      "version": "3.8.10"
     }
    }
   ]
  }
 },
 "nbformat": 4,
 "nbformat_minor": 2
}
